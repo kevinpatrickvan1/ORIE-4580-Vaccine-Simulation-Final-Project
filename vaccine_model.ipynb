import numpy as np
import pandas as pd
from scipy import stats
import math
import matplotlib.pyplot as plt
from matplotlib import colors
from sklearn.linear_model import LinearRegression
from IPython.display import clear_output
from time import sleep
import random
master_seed = 1

def sir_with_vaccine_clustered(lambda_matrix, lambda_is, p1, p2, p3, p4, n1, n2, n3, n4, gamma=50, beta=1.5, priority_order=["c1","c2","c3","c4"]):
  """
  Inputs:
    - lambda_matrix: meeting rates between asymptomatic and susceptible people in classes (per day)
    - lambda_is: meeting rate between symptomatic and class C1: medical workers (per day)
    - n1,n2,n3,n4: the initial population counts for each class 
    - gamma: vaccination rate (per day)
    - beta: recovery rate (per day)
  Outputs:
    - clks: array of clock times over simulation 
    - c1_infs: array of class 1 asymptomatic people for each clock time
    - c2_infs: array of class 2 asymptomatic people for each clock time
    - c3_infs: array of class 3 asymptomatic people for each clock time
    - c4_infs: array of class 4 asymptomatic people for each clock time
    - Is_infs: array of aggregate symptomatic infections for each clock time
    - c1_Ss: array of class 1 susceptible people for each clock time
    - c2_Ss: array of class 2 susceptible people for each clock time
    - c3_Ss: array of class 3 susceptible people for each clock time
    - c4_Ss: array of class 4 susceptible people for each clock time
    - Rs: array of aggregate recovered people for each clock time
  """
  # counts 
  c1_s, c2_s, c3_s, c4_s = n1-20,n2-20,n3-20,n4-20 # counts for susceptible people in class 
  c1_ia, c2_ia, c3_ia, c4_ia = 20,20,20,20 # counts for asymptomatic infected people in class
  Is = 0 # aggregate count for symptomatic infected people for all classes
  R = 0 # aggregate count for recovered people for all classes
 
  # output tracking
  clks = [0]
  c1_infs = [c1_ia]
  c2_infs = [c2_ia]
  c3_infs = [c3_ia]
  c4_infs = [c4_ia] 
  Is_infs = [Is]
  c1_Ss = [c1_s]
  c2_Ss = [c2_s]
  c3_Ss = [c3_s]
  c4_Ss = [c4_s]
  Rs = [R]
  total_infected = c1_ia + c2_ia + c3_ia + c4_ia + Is
 
  # rates
  c1_c1_rate = lambda_matrix[0,0]*2*c1_s*c1_ia
  c2_c2_rate = lambda_matrix[1,1]*2*c2_s*c2_ia
  c3_c3_rate = lambda_matrix[2,2]*2*c3_s*c3_ia
  c4_c4_rate = lambda_matrix[3,3]*2*c4_s*c4_ia
 
  c1_c2_rate = lambda_matrix[0,1]*(c1_s*c2_ia + c2_s*c1_ia)
  c1_c3_rate = lambda_matrix[0,2]*(c1_s*c3_ia + c3_s*c1_ia)
  c1_c4_rate = lambda_matrix[0,3]*(c1_s*c4_ia + c4_s*c1_ia)
 
  c2_c3_rate = lambda_matrix[1,2]*(c2_s*c3_ia + c3_s*c2_ia)
  c2_c4_rate = lambda_matrix[1,3]*(c2_s*c4_ia + c4_s*c2_ia)
 
  c3_c4_rate = lambda_matrix[2,3]*(c3_s*c4_ia + c4_s*c3_ia)
 
  c1_is_rate = lambda_is*c1_s*Is
 
  healing_rate = beta*(c1_ia+c2_ia+c3_ia+c4_ia+Is)
  vaccine_rate = gamma
  
  rate_sum = c1_c1_rate + c2_c2_rate + c3_c3_rate + c4_c4_rate + c1_c2_rate + c1_c3_rate + c1_c4_rate + c2_c3_rate + c2_c4_rate + c3_c4_rate + c1_is_rate + healing_rate + vaccine_rate
  nxt = np.random.exponential(1/rate_sum)
  clk = 0
 
  while (c1_ia > 0 or c2_ia > 0 or c3_ia > 0 or c4_ia > 0 or Is > 0): 
    clk += nxt
    prob = np.random.uniform()
 
    ## intraclass meetings
    # c1 <-> c1
    if prob < c1_c1_rate / rate_sum:
      c1_ia, c1_s, Is, total_infected = intraclass_meeting(ia=c1_ia,s=c1_s,p=p1,Is=Is,infected=total_infected)
 
    # c2 <-> c2
    elif prob < (c1_c1_rate + c2_c2_rate)  / rate_sum:
      c2_ia, c2_s, Is, total_infected = intraclass_meeting(ia=c2_ia,s=c2_s,p=p2,Is=Is,infected=total_infected)
 
    # c3 <-> c3
    elif prob < (c1_c1_rate + c2_c2_rate + c3_c3_rate)  / rate_sum:
      c3_ia, c3_s, Is, total_infected = intraclass_meeting(ia=c3_ia,s=c3_s,p=p3,Is=Is,infected=total_infected)
    
    # c4 <-> c4
    elif prob < (c1_c1_rate + c2_c2_rate + c3_c3_rate + c4_c4_rate)  / rate_sum:
      c4_ia, c4_s, Is, total_infected = intraclass_meeting(ia=c4_ia,s=c4_s,p=p4,Is=Is,infected=total_infected)
 
    ## interclass meetings
    # c1 <-> c2
    elif prob < (c1_c1_rate + c2_c2_rate + c3_c3_rate + c4_c4_rate + c1_c2_rate)  / rate_sum:
      c1_ia, c1_s, c2_ia, c2_s, Is, total_infected = interclass_meeting(ia_1st=c1_ia,s_1st=c1_s,ia_2nd=c2_ia,s_2nd=c2_s,p_1st=p1,p_2nd=p2,Is=Is,infected=total_infected)
 
    # c1 <-> c3
    elif prob < (c1_c1_rate + c2_c2_rate + c3_c3_rate + c4_c4_rate + c1_c2_rate + c1_c3_rate)  / rate_sum:
      c1_ia, c1_s, c3_ia, c3_s, Is, total_infected = interclass_meeting(ia_1st=c1_ia,s_1st=c1_s,ia_2nd=c3_ia,s_2nd=c3_s,p_1st=p1,p_2nd=p3,Is=Is,infected=total_infected)
    
    # c1 <-> c4
    elif prob < (c1_c1_rate + c2_c2_rate + c3_c3_rate + c4_c4_rate + c1_c2_rate + c1_c3_rate + c1_c4_rate)  / rate_sum:
      c1_ia, c1_s, c4_ia, c4_s, Is, total_infected = interclass_meeting(ia_1st=c1_ia,s_1st=c1_s,ia_2nd=c4_ia,s_2nd=c4_s,p_1st=p1,p_2nd=p4,Is=Is,infected=total_infected)
    
    # c2 <-> c3
    elif prob < (c1_c1_rate + c2_c2_rate + c3_c3_rate + c4_c4_rate + c1_c2_rate + c1_c3_rate + c1_c4_rate + c2_c3_rate)  / rate_sum:
      c2_ia, c2_s, c3_ia, c3_s, Is, total_infected = interclass_meeting(ia_1st=c2_ia,s_1st=c2_s,ia_2nd=c3_ia,s_2nd=c3_s,p_1st=p2,p_2nd=p3,Is=Is,infected=total_infected)
 
    # c2 <-> c4
    elif prob < (c1_c1_rate + c2_c2_rate + c3_c3_rate + c4_c4_rate + c1_c2_rate + c1_c3_rate + c1_c4_rate + c2_c3_rate + c2_c4_rate)  / rate_sum:
      c2_ia, c2_s, c4_ia, c4_s, Is, total_infected = interclass_meeting(ia_1st=c2_ia,s_1st=c2_s,ia_2nd=c4_ia,s_2nd=c4_s,p_1st=p2,p_2nd=p4,Is=Is,infected=total_infected)
 
    # c3 <-> c4
    elif prob < (c1_c1_rate + c2_c2_rate + c3_c3_rate + c4_c4_rate + c1_c2_rate + c1_c3_rate + c1_c4_rate + c2_c3_rate + c2_c4_rate + c3_c4_rate)  / rate_sum:
      c3_ia, c3_s, c4_ia, c4_s, Is, total_infected = interclass_meeting(ia_1st=c3_ia,s_1st=c3_s,ia_2nd=c4_ia,s_2nd=c4_s,p_1st=p3,p_2nd=p4,Is=Is,infected=total_infected)
 
    # c1 <-> Is
    elif prob < (c1_c1_rate + c2_c2_rate + c3_c3_rate + c4_c4_rate + c1_c2_rate + c1_c3_rate + c1_c4_rate + c2_c3_rate + c2_c4_rate + c3_c4_rate + c1_is_rate)  / rate_sum:
      U = np.random.uniform()
      if c1_s > 0:
        c1_s -= 1
        if U < p1:
          Is += 1
        else:
          c1_ia += 1
        total_infected += 1
 
    # healing
    elif prob < (c1_c1_rate + c2_c2_rate + c3_c3_rate + c4_c4_rate + c1_c2_rate + c1_c3_rate + c1_c4_rate + c2_c3_rate + c2_c4_rate + c3_c4_rate + c1_is_rate + healing_rate)  / rate_sum:
      U = np.random.uniform()
      inf_sum = c1_ia + c2_ia + c3_ia + c4_ia + Is
      R += 1
      if U < c1_ia / inf_sum:
        c1_ia -= 1
      elif U < (c1_ia + c2_ia) / inf_sum:
        c2_ia -= 1
      elif U < (c1_ia + c2_ia + c3_ia) / inf_sum:
        c3_ia -= 1
      elif U < (c1_ia + c2_ia + c3_ia + c4_ia) / inf_sum:
        c4_ia -= 1
      else:
        Is -= 1
 
    # vaccination
    else:
      R += 1
      if priority_order == []:
        U = np.random.uniform()
        susc_sum = c1_s + c2_s + c3_s + c4_s
        if susc_sum > 0:
          if U < c1_s / susc_sum:
            c1_s -= 1
          elif U < (c1_s + c2_s) / susc_sum:
            c2_s -= 1
          elif U < (c1_s + c2_s + c3_s) / susc_sum:
            c3_s -= 1
          else:
            c4_s -= 1
      else:
        if priority_order[0] == "c1":
          if c1_s > 0:
            c1_s -= 1
          else:
            priority_order.pop(0)
        elif priority_order[0] == "c2":
          if c2_s > 0:
            c2_s -= 1
          else:
            priority_order.pop(0)
        elif priority_order[0] == "c3":
          if c3_s > 0:
            c3_s -= 1
          else:
            priority_order.pop(0)
        else:
          if c4_s > 0:
            c4_s -= 1
          else:
            priority_order.pop(0)
 
    # update variable rates and calculate next event [nxt] 
    c1_c1_rate = lambda_matrix[0,0]*2*c1_s*c1_ia
    c2_c2_rate = lambda_matrix[1,1]*2*c2_s*c2_ia
    c3_c3_rate = lambda_matrix[2,2]*2*c3_s*c3_ia
    c4_c4_rate = lambda_matrix[3,3]*2*c4_s*c4_ia
 
    c1_c2_rate = lambda_matrix[0,1]*(c1_s*c2_ia + c2_s*c1_ia)
    c1_c3_rate = lambda_matrix[0,2]*(c1_s*c3_ia + c3_s*c1_ia)
    c1_c4_rate = lambda_matrix[0,3]*(c1_s*c4_ia + c4_s*c1_ia)
 
    c2_c3_rate = lambda_matrix[1,2]*(c2_s*c3_ia + c3_s*c2_ia)
    c2_c4_rate = lambda_matrix[1,3]*(c2_s*c4_ia + c4_s*c2_ia)
 
    c3_c4_rate = lambda_matrix[2,3]*(c3_s*c4_ia + c4_s*c3_ia)
 
    c1_is_rate = lambda_is*c1_s*Is
 
    healing_rate = beta*(c1_ia+c2_ia+c3_ia+c4_ia+Is)
    vaccine_rate = gamma
    
    rate_sum = c1_c1_rate + c2_c2_rate + c3_c3_rate + c4_c4_rate + c1_c2_rate + c1_c3_rate + c1_c4_rate + c2_c3_rate + c2_c4_rate + c3_c4_rate + c1_is_rate + healing_rate + vaccine_rate
    
    if rate_sum > 0:
      nxt = np.random.exponential(1/rate_sum)
    else:
      break
 
    # output tracking
    clks.append(clk)
    c1_infs.append(c1_ia)
    c2_infs.append(c2_ia)
    c3_infs.append(c3_ia)
    c4_infs.append(c4_ia) 
    Is_infs.append(Is)
    c1_Ss.append(c1_s)
    c2_Ss.append(c2_s)
    c3_Ss.append(c3_s)
    c4_Ss.append(c4_s)
    Rs.append(R)
 
  return clks, c1_infs, c2_infs, c3_infs, c4_infs, Is_infs, c1_Ss, c2_Ss, c3_Ss, c4_Ss, Rs, total_infected
 
def intraclass_meeting(ia,s,p,Is,infected):
  U = np.random.uniform()
  infs = infected
  if s > 0:
    s -= 1
    infs += 1
    if U < p:
      Is += 1
    else:
      ia += 1
  return ia,s,Is,infs
 
def interclass_meeting(ia_1st,s_1st,ia_2nd,s_2nd,p_1st,p_2nd,Is,infected):
  prop = (ia_1st + s_2nd) / (s_1st + ia_1st + s_2nd + ia_2nd)
  U1 = np.random.uniform()
  U2 = np.random.uniform()
  infs = infected
  if U1 < prop:
    if s_2nd > 0:
      s_2nd -= 1
      infs += 1
      if U2 < p_2nd:
        Is += 1
      else:
        ia_2nd += 1
  else:
    if s_1st > 0:
      s_1st -= 1
      infs += 1
      if U2 < p_1st:
        Is += 1
      else:
        ia_1st += 1
  return ia_1st,s_1st,ia_2nd,s_2nd,Is,infs